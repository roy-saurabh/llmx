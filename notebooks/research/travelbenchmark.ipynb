{
 "cells": [
  {
   "cell_type": "code",
   "execution_count": null,
   "metadata": {},
   "outputs": [],
   "source": [
    "from llmx.generators.text.textgen import TextGenerator\n",
    "from llmx.datamodel import TextGenerationConfig \n",
    "\n",
    "config = TextGenerationConfig( \n",
    "    n=1,\n",
    "    temperature=0.0,\n",
    "    max_tokens=100,\n",
    "    top_p=1.0,\n",
    "    top_k=50,\n",
    "    frequency_penalty=0.0,\n",
    "    presence_penalty=0.0,\n",
    "    messages =  [\n",
    "        {\"role\": \"user\", \"content\": \"What is the height of the Eiffel Tower?\"},\n",
    "    ]\n",
    ")"
   ]
  }
 ],
 "metadata": {
  "language_info": {
   "name": "python"
  },
  "orig_nbformat": 4
 },
 "nbformat": 4,
 "nbformat_minor": 2
}
